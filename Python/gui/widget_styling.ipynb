{
 "cells": [
  {
   "cell_type": "code",
   "execution_count": 1,
   "metadata": {},
   "outputs": [
    {
     "data": {
      "application/vnd.jupyter.widget-view+json": {
       "model_id": "24bba468519747378c60ee2e1bb0dc56",
       "version_major": 2,
       "version_minor": 0
      },
      "text/plain": [
       "IntSlider(value=0)"
      ]
     },
     "metadata": {},
     "output_type": "display_data"
    }
   ],
   "source": [
    "# Widget Styling and Layout\n",
    "# Styling widgets is based on HTML/CSS, and the terms\n",
    "import ipywidgets as widgets\n",
    "from IPython.display import display\n",
    "\n",
    "test_1 = widgets.IntSlider()\n",
    "display(test_1)\n",
    "\n",
    "# .layout. - View possible layout options\n",
    "# Use strings to adjust values\n",
    "test_1.layout.margin = 'auto'\n",
    "test_1.layout.height = '75px'"
   ]
  },
  {
   "cell_type": "code",
   "execution_count": 5,
   "metadata": {},
   "outputs": [
    {
     "data": {
      "application/vnd.jupyter.widget-view+json": {
       "model_id": "a8313c29310e4728b7125b15508229b6",
       "version_major": 2,
       "version_minor": 0
      },
      "text/plain": [
       "Button(button_style='danger', description='Ordinary Button', style=ButtonStyle())"
      ]
     },
     "metadata": {},
     "output_type": "display_data"
    },
    {
     "data": {
      "application/vnd.jupyter.widget-view+json": {
       "model_id": "97e2a5265e134784913f4448d66ce701",
       "version_major": 2,
       "version_minor": 0
      },
      "text/plain": [
       "Button(button_style='info', description='Ordinary Button', style=ButtonStyle())"
      ]
     },
     "metadata": {},
     "output_type": "display_data"
    }
   ],
   "source": [
    "# There are predefined styles that can be assigned to widgets during creation.\n",
    "# Styles affect colors/design not layouts, and are based on Bootstrap terms\n",
    "# button_style - USe Bootstrap codes to assign styles\n",
    "display(widgets.Button(description = 'Ordinary Button', button_style = 'danger'))\n",
    "display(widgets.Button(description = 'Ordinary Button', button_style = 'info'))"
   ]
  },
  {
   "cell_type": "code",
   "execution_count": 6,
   "metadata": {},
   "outputs": [
    {
     "data": {
      "application/vnd.jupyter.widget-view+json": {
       "model_id": "479efd6ec3f54639bfecfa9b0c6f0f14",
       "version_major": 2,
       "version_minor": 0
      },
      "text/plain": [
       "Button(description='Custom', style=ButtonStyle(button_color='skyblue'))"
      ]
     },
     "metadata": {},
     "output_type": "display_data"
    }
   ],
   "source": [
    "# You can use custom colors as well\n",
    "# style. - Show the style options for the widget being created\n",
    "test_1 = widgets.Button(description=\"New Color\")\n",
    "test_1.style.button_color = 'skyblue'\n",
    "display(test_1)"
   ]
  }
 ],
 "metadata": {
  "kernelspec": {
   "display_name": "Python 3.8.3 ('base')",
   "language": "python",
   "name": "python3"
  },
  "language_info": {
   "codemirror_mode": {
    "name": "ipython",
    "version": 3
   },
   "file_extension": ".py",
   "mimetype": "text/x-python",
   "name": "python",
   "nbconvert_exporter": "python",
   "pygments_lexer": "ipython3",
   "version": "3.8.3"
  },
  "orig_nbformat": 4,
  "vscode": {
   "interpreter": {
    "hash": "c31e3d837b089f24ca1a7ed3508fe3ae8dcea0545665238422cd716758e2617a"
   }
  }
 },
 "nbformat": 4,
 "nbformat_minor": 2
}

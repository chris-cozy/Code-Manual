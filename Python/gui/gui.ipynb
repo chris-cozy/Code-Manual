{
 "cells": [
  {
   "cell_type": "code",
   "execution_count": 2,
   "metadata": {},
   "outputs": [
    {
     "data": {
      "application/vnd.jupyter.widget-view+json": {
       "model_id": "ca99fcc335bc4f5985e48e0ad2fb2c24",
       "version_major": 2,
       "version_minor": 0
      },
      "text/plain": [
       "interactive(children=(IntSlider(value=10, description='x', max=30, min=-10), Output()), _dom_classes=('widget-…"
      ]
     },
     "metadata": {},
     "output_type": "display_data"
    },
    {
     "data": {
      "application/vnd.jupyter.widget-view+json": {
       "model_id": "aa39504a9e454a58a3172a0bd373f8a4",
       "version_major": 2,
       "version_minor": 0
      },
      "text/plain": [
       "interactive(children=(Checkbox(value=True, description='x'), Output()), _dom_classes=('widget-interact',))"
      ]
     },
     "metadata": {},
     "output_type": "display_data"
    },
    {
     "data": {
      "application/vnd.jupyter.widget-view+json": {
       "model_id": "3cd34b45cc554966b3521a7789e5fd30",
       "version_major": 2,
       "version_minor": 0
      },
      "text/plain": [
       "interactive(children=(IntSlider(value=0, description='x', min=-100), Output()), _dom_classes=('widget-interact…"
      ]
     },
     "metadata": {},
     "output_type": "display_data"
    },
    {
     "data": {
      "application/vnd.jupyter.widget-view+json": {
       "model_id": "5c2d44ee1aeb48b3a059883927ef6539",
       "version_major": 2,
       "version_minor": 0
      },
      "text/plain": [
       "interactive(children=(IntSlider(value=0, description='x', min=-100), Output()), _dom_classes=('widget-interact…"
      ]
     },
     "metadata": {},
     "output_type": "display_data"
    },
    {
     "data": {
      "application/vnd.jupyter.widget-view+json": {
       "model_id": "ec8ae69da4c5453484c717d0fa7d24c3",
       "version_major": 2,
       "version_minor": 0
      },
      "text/plain": [
       "interactive(children=(FloatSlider(value=5.0, description='x', max=20.0, step=0.5), Output()), _dom_classes=('w…"
      ]
     },
     "metadata": {},
     "output_type": "display_data"
    },
    {
     "data": {
      "application/vnd.jupyter.widget-view+json": {
       "model_id": "4fcb16aea6f24dbbaee98290f65a7f1e",
       "version_major": 2,
       "version_minor": 0
      },
      "text/plain": [
       "interactive(children=(Dropdown(description='x', options=('a', 'b', 'c'), value='a'), Output()), _dom_classes=(…"
      ]
     },
     "metadata": {},
     "output_type": "display_data"
    },
    {
     "data": {
      "application/vnd.jupyter.widget-view+json": {
       "model_id": "b78e1d770d944db4bb01f15f1f81cb02",
       "version_major": 2,
       "version_minor": 0
      },
      "text/plain": [
       "interactive(children=(Dropdown(description='x', options={'a': 25, 'b': 50, 'c': 75}, value=25), Output()), _do…"
      ]
     },
     "metadata": {},
     "output_type": "display_data"
    },
    {
     "data": {
      "text/plain": [
       "<function __main__.func(x)>"
      ]
     },
     "execution_count": 2,
     "metadata": {},
     "output_type": "execute_result"
    }
   ],
   "source": [
    "# Interact - auto generates a UI control for a function argument.\n",
    "# It then calls the function with those arguments\n",
    "    # This creates a slider. You can use a different data type to change the type\n",
    "    # Dislayes both the input value and the output\n",
    "    # Include a semicolon at the end of the call line to remove the print(type) output\n",
    "from ipywidgets import interact, interactive, fixed\n",
    "import ipywidgets as widgets\n",
    "\n",
    "def func(x):\n",
    "    return x\n",
    "interact(func, x=10)\n",
    "\n",
    "# We can use a decorator with interact\n",
    "# Typing fixed makes the input value static\n",
    "@interact(x=True, y=fixed(1.0))\n",
    "def test(x,y):\n",
    "    return (x,y)\n",
    "\n",
    "# Min defined by -x, Max defined by 3x\n",
    "# Can pass in widgets.IntSlider(min, max, step, starting value) to change the bounds\n",
    "# You can abbreviate the same information by using a tuple (min, max, step )\n",
    "interact(func, x= widgets.IntSlider(min=-100, max=100, step=1, value=0))\n",
    "interact(func, x = (-100, 100, 1))\n",
    "\n",
    "@interact(x = (0.0,20.0, 0.5))\n",
    "def test(x=5.0):\n",
    "    return x\n",
    "\n",
    "# You can also create drop down menus by passing in a list of strings\n",
    "# You can use dictionaries in a similar way\n",
    "interact(func, x = ['a','b','c'])\n",
    "interact(func, x = {'a':25, 'b':50, 'c':75})"
   ]
  },
  {
   "cell_type": "code",
   "execution_count": 4,
   "metadata": {},
   "outputs": [
    {
     "data": {
      "application/vnd.jupyter.widget-view+json": {
       "model_id": "573db4a488174895b39cd293fd161d41",
       "version_major": 2,
       "version_minor": 0
      },
      "text/plain": [
       "interactive(children=(IntSlider(value=10, description='x', max=30, min=-10), IntSlider(value=20, description='…"
      ]
     },
     "metadata": {},
     "output_type": "display_data"
    }
   ],
   "source": [
    "# Interactive - able to reuse the widgets that have already been produced, or access data that is bound to the UI controls\n",
    "    # Returns a widget container object\n",
    "    # .children - produces a list of all the objects containted\n",
    "# The return value won't be displayed automatically, but you can display a value in a function using IPython.display\n",
    "from IPython.display import display\n",
    "def test(x,y):\n",
    "    display(x + y)\n",
    "    return (x + y)\n",
    "\n",
    "cont = interactive(test, x=10, y=20)\n",
    "display(cont)"
   ]
  },
  {
   "cell_type": "code",
   "execution_count": 6,
   "metadata": {},
   "outputs": [
    {
     "data": {
      "application/vnd.jupyter.widget-view+json": {
       "model_id": "6641219699be4e9689320dacc35b4d96",
       "version_major": 2,
       "version_minor": 0
      },
      "text/plain": [
       "IntSlider(value=0)"
      ]
     },
     "metadata": {},
     "output_type": "display_data"
    }
   ],
   "source": [
    "# Widgets have their own display functionality\n",
    "# widgets. to see all of the options\n",
    "# If you display the widget multiple times, they will remain synced\n",
    "# close() - close a widget\n",
    "w = widgets.IntSlider()\n",
    "display(w)\n",
    "w.close()\n",
    "\n",
    "# Widgets have attributes\n",
    "w.value = 50\n",
    "print(w.value)\n",
    "\n",
    "# You can also link multiple widgets together\n",
    "# .jslink((widget 1, link), (widget 2, link))\n",
    "test_1 = widgets.FloatText()\n",
    "test_2 = widgets.FloatSlider()\n",
    "display(test_1,test_2)\n",
    "link = widgets.jslink((test_1,'value'), (test_2,'value'))"
   ]
  },
  {
   "cell_type": "code",
   "execution_count": null,
   "metadata": {},
   "outputs": [],
   "source": []
  }
 ],
 "metadata": {
  "kernelspec": {
   "display_name": "Python 3.8.3 ('base')",
   "language": "python",
   "name": "python3"
  },
  "language_info": {
   "codemirror_mode": {
    "name": "ipython",
    "version": 3
   },
   "file_extension": ".py",
   "mimetype": "text/x-python",
   "name": "python",
   "nbconvert_exporter": "python",
   "pygments_lexer": "ipython3",
   "version": "3.8.3"
  },
  "orig_nbformat": 4,
  "vscode": {
   "interpreter": {
    "hash": "c31e3d837b089f24ca1a7ed3508fe3ae8dcea0545665238422cd716758e2617a"
   }
  }
 },
 "nbformat": 4,
 "nbformat_minor": 2
}

{
 "cells": [
  {
   "cell_type": "code",
   "execution_count": 1,
   "metadata": {},
   "outputs": [],
   "source": [
    "# Interact - auto generates a UI control for a function argument.\n",
    "# It then calls the function with those arguments\n",
    "    # This creates a slider. You can use a different data type to change the type\n",
    "    # Dislayes both the input value and the output\n",
    "    # Include a semicolon at the end of the call line to remove the print(type) output\n",
    "from ipywidgets import interact, interactive, fixed\n",
    "import ipywidgets as widgets\n",
    "\n",
    "def func(x):\n",
    "    return x\n",
    "interact(func, x=10)\n",
    "\n",
    "# We can use a decorator with interact\n",
    "# Typing fixed makes the input value static\n",
    "@interact(x=True, y=fixed(1.0))\n",
    "def test(x,y):\n",
    "    return (x,y)\n",
    "\n",
    "# Min defined by -x, Max defined by 3x\n",
    "# Can pass in widgets.IntSlider(min, max, step, starting value) to change the bounds\n",
    "# You can abbreviate the same information by using a tuple (min, max, step )\n",
    "interact(func, x= widgets.IntSlider(min=-100, max=100, step=1, value=0))\n",
    "interact(func, x = (-100, 100, 1))\n",
    "\n",
    "@interact(x = (0.0,20.0, 0.5))\n",
    "def test(x=5.0):\n",
    "    return x\n",
    "\n",
    "# You can also create drop down menus by passing in a list of strings\n",
    "# You can use dictionaries in a similar way\n",
    "interact(func, x = ['a','b','c'])\n",
    "interact(func, x = {'a':25, 'b':50, 'c':75})"
   ]
  },
  {
   "cell_type": "code",
   "execution_count": null,
   "metadata": {},
   "outputs": [],
   "source": [
    "# Interactive - able to reuse the widgets that have already been produced, or access data that is bound to the UI controls\n",
    "    # Returns a widget container object\n",
    "    # .children - produces a list of all the objects containted\n",
    "# The return value won't be displayed automatically, but you can display a value in a function using IPython.display\n",
    "from IPython.display import display\n",
    "def test(x,y):\n",
    "    display(x + y)\n",
    "    return (x + y)\n",
    "\n",
    "cont = interactive(test, a=10, b=20)\n",
    "display(cont)"
   ]
  }
 ],
 "metadata": {
  "kernelspec": {
   "display_name": "Python 3.8.3 ('base')",
   "language": "python",
   "name": "python3"
  },
  "language_info": {
   "codemirror_mode": {
    "name": "ipython",
    "version": 3
   },
   "file_extension": ".py",
   "mimetype": "text/x-python",
   "name": "python",
   "nbconvert_exporter": "python",
   "pygments_lexer": "ipython3",
   "version": "3.8.3"
  },
  "orig_nbformat": 4,
  "vscode": {
   "interpreter": {
    "hash": "c31e3d837b089f24ca1a7ed3508fe3ae8dcea0545665238422cd716758e2617a"
   }
  }
 },
 "nbformat": 4,
 "nbformat_minor": 2
}
